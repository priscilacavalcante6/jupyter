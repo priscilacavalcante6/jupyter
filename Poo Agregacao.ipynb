{
 "cells": [
  {
   "cell_type": "code",
   "execution_count": 38,
   "id": "d81badb8",
   "metadata": {},
   "outputs": [],
   "source": [
    "class ContaBancaria:\n",
    "    num_contas = 0\n",
    "    \n",
    "    def __init__(self, clientes, numero, saldo):\n",
    "        self.clientes = clientes\n",
    "        self.numero = numero\n",
    "        self.saldo = saldo\n",
    "        ContaBancaria.num_contas += 1\n",
    "    \n",
    "    def __del__(self):\n",
    "        ContaBancaria.num_contas -= 1\n",
    "    \n",
    "    def depositar(self, valor):\n",
    "        self.saldo += valor\n",
    "    \n",
    "    def sacar(self, valor):\n",
    "        self.saldo -= valor\n",
    "    \n",
    "    def consultarSaldo(self):\n",
    "        return self.saldo"
   ]
  },
  {
   "cell_type": "code",
   "execution_count": 39,
   "id": "bbf756fd",
   "metadata": {},
   "outputs": [],
   "source": [
    "class Cliente:\n",
    "    def  __init__ (self, cpf, nome, endereco):\n",
    "        self.cpf = cpf\n",
    "        self.nome = nome\n",
    "        self.endereco = endereco\n",
    "        \n",
    "c1 = Cliente(\"000000000-11\", \"Ana\", \"Rua das Marrecas\")\n",
    "c2 = Cliente(\"222222222-22\", \"Carlos\", \"Rua dos Gansos\")\n",
    "\n",
    "conta = Conta ([c1,c2], 24237891, 2500.00)"
   ]
  },
  {
   "cell_type": "code",
   "execution_count": 40,
   "id": "3438d66f",
   "metadata": {},
   "outputs": [],
   "source": [
    "#OUTRO TIPO DE RELACIONAMENTO CHAMADO DE COMPOSIÇÃO\n",
    "\n",
    "class Extrato:\n",
    "    def __init__(self):\n",
    "        self.transacoes = []\n",
    "    def imprimir(self):\n",
    "        for p in self.transacoes:\n",
    "            print(p[0], p[1])\n",
    "            \n",
    "class Conta:\n",
    "    def __init__(self, clientes, numero, saldo):\n",
    "        self.clientes = clientes\n",
    "        self.numero = numero\n",
    "        self.saldo = saldo\n",
    "        self.extrato = Extrato()"
   ]
  },
  {
   "cell_type": "code",
   "execution_count": 37,
   "id": "2836fca8",
   "metadata": {},
   "outputs": [],
   "source": [
    "    def depositar(self, valor):\n",
    "        self.saldo += valor\n",
    "        self.extrato.transacoes.append(\n",
    "                    [DEPOSITO, valor])\n",
    "        \n",
    "    def sacar(self, valor):\n",
    "        if self.valor < valor:\n",
    "            return False\n",
    "        else:\n",
    "            self.saldo -= valor\n",
    "            self.extrato.transacoes.append(\n",
    "                        [SAQUE, valor])\n",
    "            return True"
   ]
  },
  {
   "cell_type": "code",
   "execution_count": null,
   "id": "d68cdfda",
   "metadata": {},
   "outputs": [],
   "source": []
  }
 ],
 "metadata": {
  "kernelspec": {
   "display_name": "Python 3 (ipykernel)",
   "language": "python",
   "name": "python3"
  },
  "language_info": {
   "codemirror_mode": {
    "name": "ipython",
    "version": 3
   },
   "file_extension": ".py",
   "mimetype": "text/x-python",
   "name": "python",
   "nbconvert_exporter": "python",
   "pygments_lexer": "ipython3",
   "version": "3.10.9"
  }
 },
 "nbformat": 4,
 "nbformat_minor": 5
}
