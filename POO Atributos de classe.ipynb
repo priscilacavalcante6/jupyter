{
 "cells": [
  {
   "cell_type": "markdown",
   "id": "d7f6f396",
   "metadata": {},
   "source": [
    "ATRIBUTOS DE CLASSE:\n",
    "existem algumas situações em que os sistemas precisam controlar valores associados à classe, e não aos objetos(instâncias) das classes. É o caso, por exemplo, ao se desenvolver um aplicativo de desenho, como o paint, que precisa contar o número de círculos criados na tela.\n",
    "Inicialmente, a classe Círmulo vai ser criada:\n"
   ]
  },
  {
   "cell_type": "code",
   "execution_count": null,
   "id": "8901f878",
   "metadata": {},
   "outputs": [],
   "source": [
    "class Circulo():\n",
    "    def __init__(self, pontox, pontoy, raio):\n",
    "        self.pontox = pontox\n",
    "        self.pontoy = pontoy\n",
    "        self.raio = raio"
   ]
  },
  {
   "cell_type": "markdown",
   "id": "cf373bac",
   "metadata": {},
   "source": [
    "Controle de quantidade de círculos criado"
   ]
  },
  {
   "cell_type": "code",
   "execution_count": 1,
   "id": "e8c38a90",
   "metadata": {},
   "outputs": [],
   "source": [
    "class Circulo():\n",
    "    total_circulos = 0\n",
    "    \n",
    "    def __init__(self, pontox, pontoy, raio):\n",
    "        self.pontox = pontox\n",
    "        self.pontoy = pontoy\n",
    "        self.raio = raio\n",
    "        self.total_circulos +=1"
   ]
  },
  {
   "cell_type": "markdown",
   "id": "24a078a0",
   "metadata": {},
   "source": [
    "Na linha2, indicamos para o interpretador que seja criada uma variável total_circulos. Como a declaração está localizada antes do init, o interpretador \"entende\" que se trata de uma variável de classes, ou seja, que terá um valor único para todos os objetos da classe.\n",
    "Na linha 8, o valor da variável de classe a casa instanciação de um objeto da classe Círculo é atualizado"
   ]
  },
  {
   "cell_type": "code",
   "execution_count": null,
   "id": "d7642411",
   "metadata": {},
   "outputs": [],
   "source": [
    "from Circulo import Circulo\n",
    "circ1 = Circulo(1,1,10)\n",
    "circ1.total_circulos\n",
    "1\n",
    "circ2 = Circulo(2,2,20)\n",
    "circ2.total_circulos\n",
    "2\n",
    "Circulo.total_circulos\n",
    "2"
   ]
  },
  {
   "cell_type": "markdown",
   "id": "3021b238",
   "metadata": {},
   "source": [
    "Esses acesso direto ao valor da variável de classe não é desejado. Deve-se colocar a variável como atributo privado com o underscore'-'.\n",
    "\n",
    "Como isso fica agora? O resultado será apresentado adiante."
   ]
  },
  {
   "cell_type": "code",
   "execution_count": null,
   "id": "c07b0313",
   "metadata": {},
   "outputs": [],
   "source": [
    "class Circulo:\n",
    "    \n",
    "    _total_circulos=0\n",
    "    \n",
    "    def __init__(self, pontox, pontoy, raio):\n",
    "        self.pontox = pontox\n",
    "        self.pontoy = pontoy\n",
    "        self.raio = raio\n",
    "        circulo._total_circulos +=1\n",
    "    "
   ]
  },
  {
   "cell_type": "markdown",
   "id": "31f311dd",
   "metadata": {},
   "source": [
    "Repetindo o mesmo código"
   ]
  },
  {
   "cell_type": "code",
   "execution_count": null,
   "id": "7606a421",
   "metadata": {},
   "outputs": [],
   "source": [
    "from Circulo import Circulo\n",
    "circ1 = Circulo(1,1,10)\n",
    "circ1._total_circulo\n",
    "1\n",
    "Circulo.total_circulos\n",
    "Traceback (most recent call last):\n",
    "    File'<input>', line 1, in <module>\n",
    "    AttributeError: type objetc 'Circulo' has no attribute 'total_circulos'"
   ]
  },
  {
   "cell_type": "markdown",
   "id": "1b7fa56d",
   "metadata": {},
   "source": [
    "Agregação, classes e métodos estáticos"
   ]
  }
 ],
 "metadata": {
  "kernelspec": {
   "display_name": "Python 3 (ipykernel)",
   "language": "python",
   "name": "python3"
  },
  "language_info": {
   "codemirror_mode": {
    "name": "ipython",
    "version": 3
   },
   "file_extension": ".py",
   "mimetype": "text/x-python",
   "name": "python",
   "nbconvert_exporter": "python",
   "pygments_lexer": "ipython3",
   "version": "3.10.9"
  }
 },
 "nbformat": 4,
 "nbformat_minor": 5
}
