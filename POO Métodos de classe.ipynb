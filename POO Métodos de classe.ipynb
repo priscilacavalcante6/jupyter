{
 "cells": [
  {
   "cell_type": "markdown",
   "id": "39255f8e",
   "metadata": {},
   "source": [
    "Métodos de classe\n",
    "\n",
    "Os métodos de classe são a maneira indicada para se acessar os atributos de classe. Eles têm acesso diretamente à área de mémoria que contém os atributos de classe.\n",
    "\n",
    "Para definir um método como estático, deve-se usar o decorador @classmethod. Observe agora a classe Círculo alterada:"
   ]
  },
  {
   "cell_type": "code",
   "execution_count": null,
   "id": "cd1d7cdf",
   "metadata": {},
   "outputs": [],
   "source": [
    "class Circulo:\n",
    "    _total_circulo = 0\n",
    "    \n",
    "    def __init__(self, pontox, pontoy, raio):\n",
    "        self.pontox = pontox\n",
    "        self.pontoy = pontoy\n",
    "        self.raio = raio\n",
    "        type(self)._total_circulos +=1\n",
    "        \n",
    "    @classmethod\n",
    "    def get total_circulos(cls):\n",
    "        "
   ]
  },
  {
   "cell_type": "markdown",
   "id": "98b78ec5",
   "metadata": {},
   "source": [
    "Na linha 11 é criado um parâmetro cls como referência para classe. Na linha 12, é retornado o valor do atributo de classe_total_circulos.\n",
    "\n",
    "Métodos públicos e privados\n",
    "\n",
    "As mesmas regras definidas para atributos são válidas para os métodos das classes. Desse modo, o método pode ser declarado como privado, mesmo que ainda possa ser chamado diretamente como se fosse um método público.\n",
    "\n",
    "Os dois underscores antes do método indicam que ele é privado:"
   ]
  },
  {
   "cell_type": "code",
   "execution_count": null,
   "id": "1df93806",
   "metadata": {},
   "outputs": [],
   "source": [
    "class Circulo:\n",
    "    \n",
    "    def __init__(self, clientes, numero, saldo):\n",
    "        self.clientes = clientes\n",
    "        self.numero = numero\n",
    "        self.saldo = saldo\n",
    "    def __gerarsaldo(self):\n",
    "        print(f\"numero: {self.numero}\\n saldo:{self.saldo}\")\n",
    "        \n",
    "        \n",
    "#metodo privado"
   ]
  },
  {
   "cell_type": "markdown",
   "id": "9c6c3574",
   "metadata": {},
   "source": [
    "No código acima, foi definido o método __gerarsaldo como privado. Portanto, ele poder ser cessado apenas internamente pela classe Conta.\n",
    "Um dos principais padrões da orientação a objetos consiste nos métodos públicos e nos atributos privados. Deese modo, respeita-se o encapsulamento.\n",
    "\n",
    "#Métodos estáticos\n",
    "\n",
    "São métodos que podem ser chamados sem haver uma referência para um objeto da classe, ou seja, não existe a obrigatoriedade da instaciação de um objeto da classe. O método pode ser chamado diretamente:"
   ]
  },
  {
   "cell_type": "code",
   "execution_count": 7,
   "id": "175ee7a3",
   "metadata": {},
   "outputs": [],
   "source": [
    "import math\n",
    "class Math:\n",
    "    \n",
    "    @staticmethod\n",
    "    def sqrt(x):\n",
    "        return math.sqrt(20)\n",
    "    \n",
    "#Método estático "
   ]
  },
  {
   "cell_type": "code",
   "execution_count": null,
   "id": "eaadcb17",
   "metadata": {},
   "outputs": [],
   "source": [
    "No caso acima, o método sqrt da classe Math foi chamado sem que um objet da classe Math fosse instanciado.\n"
   ]
  }
 ],
 "metadata": {
  "kernelspec": {
   "display_name": "Python 3 (ipykernel)",
   "language": "python",
   "name": "python3"
  },
  "language_info": {
   "codemirror_mode": {
    "name": "ipython",
    "version": 3
   },
   "file_extension": ".py",
   "mimetype": "text/x-python",
   "name": "python",
   "nbconvert_exporter": "python",
   "pygments_lexer": "ipython3",
   "version": "3.10.9"
  }
 },
 "nbformat": 4,
 "nbformat_minor": 5
}
